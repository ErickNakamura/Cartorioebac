{
  "nbformat": 4,
  "nbformat_minor": 0,
  "metadata": {
    "colab": {
      "provenance": [],
      "authorship_tag": "ABX9TyMECiVZGz/jZXFRN5N59dsi",
      "include_colab_link": true
    },
    "kernelspec": {
      "name": "python3",
      "display_name": "Python 3"
    },
    "language_info": {
      "name": "python"
    }
  },
  "cells": [
    {
      "cell_type": "markdown",
      "metadata": {
        "id": "view-in-github",
        "colab_type": "text"
      },
      "source": [
        "<a href=\"https://colab.research.google.com/github/ErickNakamura/Cartorioebac/blob/main/exercicio_calculadora.ipynb\" target=\"_parent\"><img src=\"https://colab.research.google.com/assets/colab-badge.svg\" alt=\"Open In Colab\"/></a>"
      ]
    },
    {
      "cell_type": "markdown",
      "source": [
        "#Calculadora"
      ],
      "metadata": {
        "id": "HbXMBcV7yP2l"
      }
    },
    {
      "cell_type": "code",
      "execution_count": 7,
      "metadata": {
        "colab": {
          "base_uri": "https://localhost:8080/"
        },
        "id": "bHfutY7pyMFW",
        "outputId": "dbf548ee-78db-46ae-d9e2-7a99a1ac7827"
      },
      "outputs": [
        {
          "output_type": "stream",
          "name": "stdout",
          "text": [
            "Digite seu nome: erick\n",
            "Olá erick seja bem vindo/a!\n",
            "erick vamos utilizar a calculadora!\n",
            "Digite o primeiro número: 20\n",
            "Digite o segundo número:6\n",
            "erick Abaixo está os resultados calculados!\n",
            "Soma:  26.0\n",
            "Subtração:  14.0\n",
            "Multiplicação:  120.0\n",
            "Divisão:  3.3333333333333335\n",
            "O maior número digitado é:  20.0\n"
          ]
        }
      ],
      "source": [
        "nome = input(\"Digite seu nome: \")\n",
        "print(\"Olá\", nome, \"seja bem vindo/a!\")\n",
        "print(nome, \"vamos utilizar a calculadora!\")\n",
        "\n",
        "num1 = float(input(\"Digite o primeiro número: \"))\n",
        "num2 = float(input(\"Digite o segundo número:\" ))\n",
        "\n",
        "print(nome, \"Abaixo está os resultados calculados!\")\n",
        "print(\"Soma: \", num1 + num2)\n",
        "print(\"Subtração: \", num1 - num2)\n",
        "print(\"Multiplicação: \", num1 * num2)\n",
        "print(\"Divisão: \", num1 / num2)\n",
        "if num1 > num2:\n",
        "  print(\"O maior número digitado é: \", num1)\n",
        "elif num2 > num1:\n",
        "  print(\"O maior número digitado é: \", num2)\n",
        "else:\n",
        "  print(\"Os números são iguais!\")\n",
        "\n"
      ]
    }
  ]
}